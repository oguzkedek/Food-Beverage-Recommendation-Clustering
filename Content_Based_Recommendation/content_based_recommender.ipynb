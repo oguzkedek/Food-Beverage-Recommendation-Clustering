{
 "cells": [
  {
   "cell_type": "markdown",
   "id": "f55810b3-321a-4344-9f35-3634897d8945",
   "metadata": {},
   "source": [
    "<div>\n",
    "<img src=\"content.jpg\" width=\"500\"/>\n",
    "</div>"
   ]
  },
  {
   "cell_type": "markdown",
   "id": "84b462dd-dee8-4c88-a3a0-675426564808",
   "metadata": {},
   "source": [
    "# CONTENT BASED FILTERING\n",
    "\n",
    "Simply, it is the recommendation of a product with similar content according to the content of the product/service."
   ]
  },
  {
   "cell_type": "markdown",
   "id": "1c44fbcd-61f1-4564-b200-26ff3dbf38c8",
   "metadata": {},
   "source": [
    "The Content-based approach requires a good amount of information about items’ features, rather than using the user’s interactions and feedback."
   ]
  },
  {
   "cell_type": "markdown",
   "id": "db4a3061-7b84-4e4b-9ee1-a7982c7a088f",
   "metadata": {},
   "source": [
    "**Advantage:**\n",
    "\n",
    "- The model doesn't need any data about other users, since the recommendations are specific to this user. This makes it easier to scale to a large number of users.\n",
    "\n",
    "\n",
    "**Disadvantage:**\n",
    " \n",
    "- The model can only make recommendations based on existing interests of the user. In other words, the model has limited ability to expand on the users' existing interests.\n",
    "\n"
   ]
  },
  {
   "cell_type": "markdown",
   "id": "9dced8cf-cde0-47fe-88c4-d6ae10948ae2",
   "metadata": {},
   "source": [
    "  *In this study, a recommendation system model will be built based on the content definitions of the recipes and the content of the recipe steps."
   ]
  },
  {
   "cell_type": "code",
   "execution_count": 1,
   "id": "2ba1d9cb-8318-40c4-8cfe-92356208bc3c",
   "metadata": {},
   "outputs": [],
   "source": [
    "import pandas as pd\n",
    "\n",
    "pd.set_option('display.max_columns',None)\n",
    "pd.set_option('display.width', 500)\n",
    "pd.set_option('display.expand_frame_repr', False)\n",
    "from sklearn.feature_extraction.text import TfidfVectorizer\n",
    "from sklearn.metrics.pairwise import cosine_similarity\n",
    "\n",
    "import warnings\n",
    "warnings.filterwarnings(\"ignore\")"
   ]
  },
  {
   "cell_type": "code",
   "execution_count": 2,
   "id": "42baf4b8-9f7c-4b75-a793-554b60d76db5",
   "metadata": {},
   "outputs": [],
   "source": [
    "df = pd.read_csv('RAW_recipes.csv')"
   ]
  },
  {
   "cell_type": "code",
   "execution_count": 3,
   "id": "b20e2a02-acc3-4bbd-97d2-2c5f924cb05b",
   "metadata": {},
   "outputs": [
    {
     "data": {
      "text/html": [
       "<div>\n",
       "<style scoped>\n",
       "    .dataframe tbody tr th:only-of-type {\n",
       "        vertical-align: middle;\n",
       "    }\n",
       "\n",
       "    .dataframe tbody tr th {\n",
       "        vertical-align: top;\n",
       "    }\n",
       "\n",
       "    .dataframe thead th {\n",
       "        text-align: right;\n",
       "    }\n",
       "</style>\n",
       "<table border=\"1\" class=\"dataframe\">\n",
       "  <thead>\n",
       "    <tr style=\"text-align: right;\">\n",
       "      <th></th>\n",
       "      <th>name</th>\n",
       "      <th>id</th>\n",
       "      <th>minutes</th>\n",
       "      <th>contributor_id</th>\n",
       "      <th>submitted</th>\n",
       "      <th>tags</th>\n",
       "      <th>nutrition</th>\n",
       "      <th>n_steps</th>\n",
       "      <th>steps</th>\n",
       "      <th>description</th>\n",
       "      <th>ingredients</th>\n",
       "      <th>n_ingredients</th>\n",
       "    </tr>\n",
       "  </thead>\n",
       "  <tbody>\n",
       "    <tr>\n",
       "      <th>0</th>\n",
       "      <td>arriba   baked winter squash mexican style</td>\n",
       "      <td>137739</td>\n",
       "      <td>55</td>\n",
       "      <td>47892</td>\n",
       "      <td>2005-09-16</td>\n",
       "      <td>['60-minutes-or-less', 'time-to-make', 'course...</td>\n",
       "      <td>[51.5, 0.0, 13.0, 0.0, 2.0, 0.0, 4.0]</td>\n",
       "      <td>11</td>\n",
       "      <td>['make a choice and proceed with recipe', 'dep...</td>\n",
       "      <td>autumn is my favorite time of year to cook! th...</td>\n",
       "      <td>['winter squash', 'mexican seasoning', 'mixed ...</td>\n",
       "      <td>7</td>\n",
       "    </tr>\n",
       "    <tr>\n",
       "      <th>1</th>\n",
       "      <td>a bit different  breakfast pizza</td>\n",
       "      <td>31490</td>\n",
       "      <td>30</td>\n",
       "      <td>26278</td>\n",
       "      <td>2002-06-17</td>\n",
       "      <td>['30-minutes-or-less', 'time-to-make', 'course...</td>\n",
       "      <td>[173.4, 18.0, 0.0, 17.0, 22.0, 35.0, 1.0]</td>\n",
       "      <td>9</td>\n",
       "      <td>['preheat oven to 425 degrees f', 'press dough...</td>\n",
       "      <td>this recipe calls for the crust to be prebaked...</td>\n",
       "      <td>['prepared pizza crust', 'sausage patty', 'egg...</td>\n",
       "      <td>6</td>\n",
       "    </tr>\n",
       "    <tr>\n",
       "      <th>2</th>\n",
       "      <td>all in the kitchen  chili</td>\n",
       "      <td>112140</td>\n",
       "      <td>130</td>\n",
       "      <td>196586</td>\n",
       "      <td>2005-02-25</td>\n",
       "      <td>['time-to-make', 'course', 'preparation', 'mai...</td>\n",
       "      <td>[269.8, 22.0, 32.0, 48.0, 39.0, 27.0, 5.0]</td>\n",
       "      <td>6</td>\n",
       "      <td>['brown ground beef in large pot', 'add choppe...</td>\n",
       "      <td>this modified version of 'mom's' chili was a h...</td>\n",
       "      <td>['ground beef', 'yellow onions', 'diced tomato...</td>\n",
       "      <td>13</td>\n",
       "    </tr>\n",
       "    <tr>\n",
       "      <th>3</th>\n",
       "      <td>alouette  potatoes</td>\n",
       "      <td>59389</td>\n",
       "      <td>45</td>\n",
       "      <td>68585</td>\n",
       "      <td>2003-04-14</td>\n",
       "      <td>['60-minutes-or-less', 'time-to-make', 'course...</td>\n",
       "      <td>[368.1, 17.0, 10.0, 2.0, 14.0, 8.0, 20.0]</td>\n",
       "      <td>11</td>\n",
       "      <td>['place potatoes in a large pot of lightly sal...</td>\n",
       "      <td>this is a super easy, great tasting, make ahea...</td>\n",
       "      <td>['spreadable cheese with garlic and herbs', 'n...</td>\n",
       "      <td>11</td>\n",
       "    </tr>\n",
       "    <tr>\n",
       "      <th>4</th>\n",
       "      <td>amish  tomato ketchup  for canning</td>\n",
       "      <td>44061</td>\n",
       "      <td>190</td>\n",
       "      <td>41706</td>\n",
       "      <td>2002-10-25</td>\n",
       "      <td>['weeknight', 'time-to-make', 'course', 'main-...</td>\n",
       "      <td>[352.9, 1.0, 337.0, 23.0, 3.0, 0.0, 28.0]</td>\n",
       "      <td>5</td>\n",
       "      <td>['mix all ingredients&amp; boil for 2 1 / 2 hours ...</td>\n",
       "      <td>my dh's amish mother raised him on this recipe...</td>\n",
       "      <td>['tomato juice', 'apple cider vinegar', 'sugar...</td>\n",
       "      <td>8</td>\n",
       "    </tr>\n",
       "  </tbody>\n",
       "</table>\n",
       "</div>"
      ],
      "text/plain": [
       "                                         name      id  minutes  contributor_id   submitted                                               tags                                   nutrition  n_steps                                              steps                                        description                                        ingredients  n_ingredients\n",
       "0  arriba   baked winter squash mexican style  137739       55           47892  2005-09-16  ['60-minutes-or-less', 'time-to-make', 'course...       [51.5, 0.0, 13.0, 0.0, 2.0, 0.0, 4.0]       11  ['make a choice and proceed with recipe', 'dep...  autumn is my favorite time of year to cook! th...  ['winter squash', 'mexican seasoning', 'mixed ...              7\n",
       "1            a bit different  breakfast pizza   31490       30           26278  2002-06-17  ['30-minutes-or-less', 'time-to-make', 'course...   [173.4, 18.0, 0.0, 17.0, 22.0, 35.0, 1.0]        9  ['preheat oven to 425 degrees f', 'press dough...  this recipe calls for the crust to be prebaked...  ['prepared pizza crust', 'sausage patty', 'egg...              6\n",
       "2                   all in the kitchen  chili  112140      130          196586  2005-02-25  ['time-to-make', 'course', 'preparation', 'mai...  [269.8, 22.0, 32.0, 48.0, 39.0, 27.0, 5.0]        6  ['brown ground beef in large pot', 'add choppe...  this modified version of 'mom's' chili was a h...  ['ground beef', 'yellow onions', 'diced tomato...             13\n",
       "3                          alouette  potatoes   59389       45           68585  2003-04-14  ['60-minutes-or-less', 'time-to-make', 'course...   [368.1, 17.0, 10.0, 2.0, 14.0, 8.0, 20.0]       11  ['place potatoes in a large pot of lightly sal...  this is a super easy, great tasting, make ahea...  ['spreadable cheese with garlic and herbs', 'n...             11\n",
       "4          amish  tomato ketchup  for canning   44061      190           41706  2002-10-25  ['weeknight', 'time-to-make', 'course', 'main-...   [352.9, 1.0, 337.0, 23.0, 3.0, 0.0, 28.0]        5  ['mix all ingredients& boil for 2 1 / 2 hours ...  my dh's amish mother raised him on this recipe...  ['tomato juice', 'apple cider vinegar', 'sugar...              8"
      ]
     },
     "execution_count": 3,
     "metadata": {},
     "output_type": "execute_result"
    }
   ],
   "source": [
    "df.head()"
   ]
  },
  {
   "cell_type": "code",
   "execution_count": 4,
   "id": "6f0227c0-fc09-4db1-b4d4-24e03d5ff7e4",
   "metadata": {},
   "outputs": [
    {
     "name": "stdout",
     "output_type": "stream",
     "text": [
      "Head of Description\n",
      "\n",
      " 0    autumn is my favorite time of year to cook! th...\n",
      "1    this recipe calls for the crust to be prebaked...\n",
      "2    this modified version of 'mom's' chili was a h...\n",
      "3    this is a super easy, great tasting, make ahea...\n",
      "4    my dh's amish mother raised him on this recipe...\n",
      "5                                                  NaN\n",
      "6    my italian mil was thoroughly impressed by my ...\n",
      "7    this recipe is posted by request and was origi...\n",
      "8                                                  NaN\n",
      "9                                  from ann hodgman's \n",
      "Name: description, dtype: object\n",
      "======================================================================\n",
      "Tail of Description\n",
      "\n",
      " 231627                      a delicious bacon-studded tart.\n",
      "231628    haricots verts are very slender french green b...\n",
      "231629    recipe courtesy of b&c seafood, vacherie, la a...\n",
      "231630    great sauce for cheeseburgers or dipping fries...\n",
      "231631               a wrap inspired by great cajun flavors\n",
      "231632    this is a delicious soup that i originally fou...\n",
      "231633      this spice mix will make your taste buds dance!\n",
      "231634                            deviled eggs, cajun-style\n",
      "231635    i've heard of the 'cookies by design' company,...\n",
      "231636    i've heard of the 'cookies by design' company,...\n",
      "Name: description, dtype: object\n"
     ]
    }
   ],
   "source": [
    "print('Head of Description\\n\\n', df['description'].head(10))\n",
    "print('=' *70)\n",
    "print('Tail of Description\\n\\n', df['description'].tail(10))"
   ]
  },
  {
   "cell_type": "code",
   "execution_count": 5,
   "id": "f031b256-2be4-45d4-a9e2-d14cd6b6d0fa",
   "metadata": {},
   "outputs": [
    {
     "name": "stdout",
     "output_type": "stream",
     "text": [
      "Head of Steps\n",
      "\n",
      " 0    ['make a choice and proceed with recipe', 'dep...\n",
      "1    ['preheat oven to 425 degrees f', 'press dough...\n",
      "2    ['brown ground beef in large pot', 'add choppe...\n",
      "3    ['place potatoes in a large pot of lightly sal...\n",
      "4    ['mix all ingredients& boil for 2 1 / 2 hours ...\n",
      "5    ['combine ingredients in blender', 'cover and ...\n",
      "6    ['toast the fennel seeds and lightly crush the...\n",
      "7    ['in a medium saucepan combine all the ingredi...\n",
      "8    ['crumble cookies into a 9-inch pie plate , or...\n",
      "9    ['preheat oven to 350 degrees', 'butter two 9x...\n",
      "Name: steps, dtype: object\n",
      "======================================================================\n",
      "Tail of Steps\n",
      "\n",
      " 231627    ['crust:', 'pulse flour , baking powder , and ...\n",
      "231628    ['into each of six sterile pint mason jars , p...\n",
      "231629    ['place the lettuce on a platter or serving di...\n",
      "231630    ['to make the sauce , combine the mayonnaise ,...\n",
      "231631    ['bring 3 quarts salted to water to a boil', '...\n",
      "231632    ['heat oil in a 4-quart dutch oven', 'add cele...\n",
      "231633          ['mix all ingredients together thoroughly']\n",
      "231634    ['in a bowl , combine the mashed yolks and may...\n",
      "231635    ['place melted butter in a large mixing bowl a...\n",
      "231636    ['whip sugar and shortening in a large bowl , ...\n",
      "Name: steps, dtype: object\n"
     ]
    }
   ],
   "source": [
    "print('Head of Steps\\n\\n', df['steps'].head(10))\n",
    "print('=' *70)\n",
    "print('Tail of Steps\\n\\n', df['steps'].tail(10))"
   ]
  },
  {
   "cell_type": "code",
   "execution_count": 6,
   "id": "70cb969b-719c-4578-b262-3fc1808c87f9",
   "metadata": {},
   "outputs": [],
   "source": [
    "df.dropna(inplace=True)"
   ]
  },
  {
   "cell_type": "code",
   "execution_count": 7,
   "id": "6b7903b0-af7d-4338-972f-aeb3c0a61c34",
   "metadata": {},
   "outputs": [],
   "source": [
    "random_foods = pd.Series(df['id']).sample(50000, random_state=17).values.tolist()\n",
    "random_food_df = df[df['id'].isin(random_foods)].reset_index(drop=True)"
   ]
  },
  {
   "cell_type": "markdown",
   "id": "3fbb37ed-4983-4b52-81b4-05d718050375",
   "metadata": {},
   "source": [
    "**Note**  \n",
    "In order to make the study more efficient, the entire data set will not be used. Because we have quite large dataset"
   ]
  },
  {
   "cell_type": "code",
   "execution_count": 8,
   "id": "5476c247-4258-4e7d-bfbd-a55775bc2310",
   "metadata": {},
   "outputs": [
    {
     "data": {
      "text/plain": [
       "(50000, 12)"
      ]
     },
     "execution_count": 8,
     "metadata": {},
     "output_type": "execute_result"
    }
   ],
   "source": [
    "random_food_df.shape"
   ]
  },
  {
   "cell_type": "markdown",
   "id": "25d359b2-b5bf-4d82-9be2-3a1ee5561036",
   "metadata": {},
   "source": [
    "**TF is simply the frequency of a word in a document. IDF is the inverse of the document frequency among the whole corpus of documents.  \n",
    "They are used to determine the relative importance of a document / article / news item / movie etc.**"
   ]
  },
  {
   "cell_type": "code",
   "execution_count": 9,
   "id": "f3240c41-8f38-4539-9200-c1055e86db09",
   "metadata": {},
   "outputs": [],
   "source": [
    "tfidf = TfidfVectorizer(stop_words=\"english\")"
   ]
  },
  {
   "cell_type": "markdown",
   "id": "d4fd49d4-db7f-4a8f-a204-bbad639c425c",
   "metadata": {},
   "source": [
    "**TfidfVectorizer - Transforms text to feature vectors that can be used as input to estimator.**"
   ]
  },
  {
   "cell_type": "code",
   "execution_count": 10,
   "id": "2b67e242-06c9-45af-9e8a-9a212575f8c7",
   "metadata": {},
   "outputs": [],
   "source": [
    "tfidf_matrix = tfidf.fit_transform(random_food_df['description'])"
   ]
  },
  {
   "cell_type": "code",
   "execution_count": 11,
   "id": "910e10a2-4c7e-4bc8-8dbb-d45051e6c36e",
   "metadata": {},
   "outputs": [
    {
     "data": {
      "text/plain": [
       "(50000, 31413)"
      ]
     },
     "execution_count": 11,
     "metadata": {},
     "output_type": "execute_result"
    }
   ],
   "source": [
    "tfidf_matrix.shape"
   ]
  },
  {
   "cell_type": "markdown",
   "id": "eb10494b-a90b-4e60-a744-3f19c8def372",
   "metadata": {},
   "source": [
    "**There are 50000 recipes in our dataset. Columns consist of words in descriptions.**"
   ]
  },
  {
   "cell_type": "code",
   "execution_count": 12,
   "id": "34120837-a0e0-4cd1-951a-0005a503dce9",
   "metadata": {},
   "outputs": [
    {
     "data": {
      "text/plain": [
       "(50000,)"
      ]
     },
     "execution_count": 12,
     "metadata": {},
     "output_type": "execute_result"
    }
   ],
   "source": [
    "random_food_df['description'].shape"
   ]
  },
  {
   "cell_type": "code",
   "execution_count": 13,
   "id": "4167b2bf-11b4-4b7a-95a6-1aa58e5dd9fa",
   "metadata": {
    "tags": []
   },
   "outputs": [
    {
     "data": {
      "text/plain": [
       "['00',\n",
       " '000',\n",
       " '000037moms_roast_turkey',\n",
       " '000ft',\n",
       " '001',\n",
       " '005178mexican_red_chili_sauce',\n",
       " '0060586141',\n",
       " '01',\n",
       " '02',\n",
       " '03',\n",
       " '038',\n",
       " '04',\n",
       " '045499',\n",
       " '05',\n",
       " '06',\n",
       " '062910',\n",
       " '07',\n",
       " '08',\n",
       " '082mg',\n",
       " '09']"
      ]
     },
     "execution_count": 13,
     "metadata": {},
     "output_type": "execute_result"
    }
   ],
   "source": [
    "tfidf.get_feature_names()[:20]"
   ]
  },
  {
   "cell_type": "code",
   "execution_count": 14,
   "id": "67131980-5741-4164-8e30-905285891fe8",
   "metadata": {},
   "outputs": [
    {
     "data": {
      "text/plain": [
       "array([[0., 0., 0., ..., 0., 0., 0.],\n",
       "       [0., 0., 0., ..., 0., 0., 0.],\n",
       "       [0., 0., 0., ..., 0., 0., 0.],\n",
       "       ...,\n",
       "       [0., 0., 0., ..., 0., 0., 0.],\n",
       "       [0., 0., 0., ..., 0., 0., 0.],\n",
       "       [0., 0., 0., ..., 0., 0., 0.]])"
      ]
     },
     "execution_count": 14,
     "metadata": {},
     "output_type": "execute_result"
    }
   ],
   "source": [
    "tfidf_matrix.toarray()"
   ]
  },
  {
   "cell_type": "code",
   "execution_count": 15,
   "id": "5c871ac7-1220-4112-835c-043a184282e4",
   "metadata": {},
   "outputs": [],
   "source": [
    "cosine_sim = cosine_similarity(tfidf_matrix,\n",
    "                               tfidf_matrix)"
   ]
  },
  {
   "cell_type": "code",
   "execution_count": 16,
   "id": "02c4204f-f447-4979-978c-bf699bad268a",
   "metadata": {},
   "outputs": [
    {
     "data": {
      "text/plain": [
       "(50000, 50000)"
      ]
     },
     "execution_count": 16,
     "metadata": {},
     "output_type": "execute_result"
    }
   ],
   "source": [
    "cosine_sim.shape"
   ]
  },
  {
   "cell_type": "markdown",
   "id": "4081ae20-ea58-4cbd-9039-fb9cb5eb9dd7",
   "metadata": {},
   "source": [
    "**Cosine similarity measures the similarity between two vectors of an inner product space.  \n",
    "We can say that the purpose of use in this study is to measure the similarity of 50000 recipes with each other.**"
   ]
  },
  {
   "attachments": {
    "dbbd44e7-37a3-470b-923d-5c68a3e93f46.png": {
     "image/png": "[encoded data removed]"
    }
   },
   "cell_type": "markdown",
   "id": "5c3c05f0-2569-4583-8948-572aa53d1223",
   "metadata": {},
   "source": [
    "![1*0EldhEjTUSOYxAmdG5zeIw.png](attachment:dbbd44e7-37a3-470b-923d-5c68a3e93f46.png)"
   ]
  },
  {
   "cell_type": "code",
   "execution_count": 17,
   "id": "f45c2d9f-5f2c-4b10-a54e-3880f47d9baa",
   "metadata": {},
   "outputs": [],
   "source": [
    "indices = pd.Series(random_food_df.index, index=random_food_df['name'])"
   ]
  },
  {
   "cell_type": "code",
   "execution_count": 18,
   "id": "20da4aed-1c6f-45a0-bc3b-6add2203e79d",
   "metadata": {},
   "outputs": [
    {
     "data": {
      "text/plain": [
       "name\n",
       "all in the kitchen  chili                           0\n",
       "chicken lickin  good  pork chops                    1\n",
       "chinese  chop suey                                  2\n",
       "global gourmet  taco casserole                      3\n",
       "grilled  venison burgers                            4\n",
       "                                                ...  \n",
       "zupse bread swiss bread                         49995\n",
       "zurich diced veal zurcher geschnetzeltes        49996\n",
       "zurie s holey rustic olive and cheddar bread    49997\n",
       "zwetschgenkuchen   plum cake                    49998\n",
       "zydeco shrimp wrap                              49999\n",
       "Length: 50000, dtype: int64"
      ]
     },
     "execution_count": 18,
     "metadata": {},
     "output_type": "execute_result"
    }
   ],
   "source": [
    "indices"
   ]
  },
  {
   "cell_type": "code",
   "execution_count": 19,
   "id": "01423a1a-8f10-46e8-990e-95ce2d77e81b",
   "metadata": {},
   "outputs": [
    {
     "data": {
      "text/plain": [
       "homemade pop tarts                      2\n",
       "hot chicken dip                         2\n",
       "old fashioned macaroni and cheese       2\n",
       "cheddar bay biscuits  red lobster       2\n",
       "russian style salad dressing            2\n",
       "                                       ..\n",
       "easy mediterranean pasta salad          1\n",
       "easy melt in your mouth coconut cake    1\n",
       "easy meringue topping                   1\n",
       "easy mexican pozole soup  crock pot     1\n",
       "zydeco shrimp wrap                      1\n",
       "Name: name, Length: 49935, dtype: int64"
      ]
     },
     "execution_count": 19,
     "metadata": {},
     "output_type": "execute_result"
    }
   ],
   "source": [
    "indices.index.value_counts()"
   ]
  },
  {
   "cell_type": "code",
   "execution_count": 20,
   "id": "34d09b24-c330-417d-b9a0-58a323901250",
   "metadata": {},
   "outputs": [],
   "source": [
    "indices = indices[~indices.index.duplicated(keep='last')]"
   ]
  },
  {
   "cell_type": "markdown",
   "id": "6db7338f-abd0-461e-9871-e31cc1a9930d",
   "metadata": {},
   "source": [
    "## Recommendations Based on Similarities"
   ]
  },
  {
   "cell_type": "code",
   "execution_count": 21,
   "id": "f8260b80-451c-44fa-9ac3-5676fdd7fa7d",
   "metadata": {},
   "outputs": [],
   "source": [
    "def check_food(keyword):\n",
    "    return [col for col in random_food_df.name if keyword in col]"
   ]
  },
  {
   "cell_type": "markdown",
   "id": "d46c4e30-0d08-4cb2-a101-fa6a36c3a609",
   "metadata": {},
   "source": [
    "**Determining the recipe to recommendation**"
   ]
  },
  {
   "cell_type": "code",
   "execution_count": 22,
   "id": "cf6bb3b7-7cf9-43ae-a9aa-229583de123e",
   "metadata": {
    "tags": []
   },
   "outputs": [
    {
     "data": {
      "text/plain": [
       "['1 in canada chocolate chip cookies',\n",
       " 'you can t eat just one  ice box cookies',\n",
       " 'new  vanishing oatmeal raisin cookies',\n",
       " '101 super cookies',\n",
       " '3 ingredient peanut butter cookies',\n",
       " '5 chip cookies',\n",
       " '60 sec  chocolate oat peanut butter cookies',\n",
       " 'absolutely the best chocolate chip cookies',\n",
       " 'absolutely the best gluten free peanut butter cookies',\n",
       " 'addictive white chocolate cookies',\n",
       " 'agave oatmeal raisin flax cookies',\n",
       " 'alaska molasses cookies',\n",
       " 'all american chewy chocolate chip cookies',\n",
       " 'almond bar cookies',\n",
       " 'almond blueberry cookies',\n",
       " 'almond butter cookies with frosting',\n",
       " 'almond chocolate cookies',\n",
       " 'almond cloud cookies',\n",
       " 'almond crescent cookies',\n",
       " 'almond joy cookies',\n",
       " 'almond kiss cookies',\n",
       " 'almond meringue cookies',\n",
       " 'almond toffee cookies',\n",
       " 'almond vanilla cookies',\n",
       " 'almost flourless chocolate chocolate chip peanut butter cookies']"
      ]
     },
     "execution_count": 22,
     "metadata": {},
     "output_type": "execute_result"
    }
   ],
   "source": [
    "check_food('cookies')[:25]"
   ]
  },
  {
   "cell_type": "code",
   "execution_count": 23,
   "id": "21d5d142-f911-42bc-9751-5f6fa55776f7",
   "metadata": {},
   "outputs": [],
   "source": [
    "food_index = indices['almost flourless chocolate chocolate chip peanut butter cookies']"
   ]
  },
  {
   "cell_type": "code",
   "execution_count": 24,
   "id": "2cafc0a6-ec74-426b-bbc6-b7cae0f60da5",
   "metadata": {},
   "outputs": [
    {
     "data": {
      "text/plain": [
       "array([0.        , 0.        , 0.03095085, ..., 0.03743949, 0.00694732,\n",
       "       0.        ])"
      ]
     },
     "execution_count": 24,
     "metadata": {},
     "output_type": "execute_result"
    }
   ],
   "source": [
    "cosine_sim[food_index]"
   ]
  },
  {
   "cell_type": "markdown",
   "id": "d7d6dca1-2d72-40e9-8909-cbf6934d2c98",
   "metadata": {},
   "source": [
    "**The similarity scores of the chosen recipe with other recipes are checked.**"
   ]
  },
  {
   "cell_type": "code",
   "execution_count": 25,
   "id": "ab319d93-01dc-4214-8836-1fba38dc3441",
   "metadata": {},
   "outputs": [],
   "source": [
    "similarity_scores = pd.DataFrame(cosine_sim[food_index],\n",
    "                                 columns=[\"score\"])"
   ]
  },
  {
   "cell_type": "code",
   "execution_count": 26,
   "id": "3147afe5-e497-4e72-aac3-8950c1ae9771",
   "metadata": {},
   "outputs": [],
   "source": [
    "food_indices = similarity_scores.sort_values(\"score\", ascending=False)[1:11].index"
   ]
  },
  {
   "cell_type": "markdown",
   "id": "1c7eac3d-20a9-4163-a562-50e74368a3a3",
   "metadata": {},
   "source": [
    "### 10 recipes most similar to the chosen recipe"
   ]
  },
  {
   "cell_type": "code",
   "execution_count": 27,
   "id": "951c42b7-ac09-491f-8f85-6dbfbfe0f002",
   "metadata": {},
   "outputs": [
    {
     "data": {
      "text/plain": [
       "6934                  butterless peanut butter cookies\n",
       "290                 3 ingredient peanut butter cookies\n",
       "4993                   best peanut butter cookies ever\n",
       "33522    peanut butter chip    chocolate chip pancakes\n",
       "31078                   no flour peanut butter cookies\n",
       "9038             chewy chocolate peanut butter cookies\n",
       "1429                apple butter peanut butter cookies\n",
       "11002                     chocolate peanut butter cake\n",
       "24737                 jean pare s peanut butter treats\n",
       "48557          weight watcher s general tsao s chicken\n",
       "Name: name, dtype: object"
      ]
     },
     "execution_count": 27,
     "metadata": {},
     "output_type": "execute_result"
    }
   ],
   "source": [
    "random_food_df['name'].iloc[food_indices]"
   ]
  },
  {
   "cell_type": "markdown",
   "id": "72510b55-9d84-478c-94d4-fba8b205385f",
   "metadata": {},
   "source": [
    "### Recommendations appear to make sense"
   ]
  },
  {
   "cell_type": "markdown",
   "id": "3052cbe8-cd7c-427e-8193-993141d8489a",
   "metadata": {},
   "source": [
    "## Preparation of Working Script"
   ]
  },
  {
   "cell_type": "code",
   "execution_count": 28,
   "id": "0e916da8-a8c2-4f75-ad38-ede08d806207",
   "metadata": {},
   "outputs": [],
   "source": [
    "def calculate_cosine_sim(dataframe, col):\n",
    "    tfidf = TfidfVectorizer(stop_words='english')\n",
    "    dataframe[col] = dataframe[col].fillna('')\n",
    "    tfidf_matrix = tfidf.fit_transform(dataframe[col])\n",
    "    cosine_sim = cosine_similarity(tfidf_matrix, tfidf_matrix)\n",
    "    return cosine_sim\n",
    "\n",
    "def recommendation(recipe, cosine_sim, dataframe):\n",
    "    indices = pd.Series(dataframe.index, index=dataframe['name'])\n",
    "    indices = indices[~indices.index.duplicated(keep='last')]\n",
    "    food_index = indices[recipe]\n",
    "    similarity_scores = pd.DataFrame(cosine_sim[food_index],\n",
    "                                 columns=[\"score\"])\n",
    "    food_indices = similarity_scores.sort_values(\"score\", ascending=False)[1:11].index\n",
    "    return dataframe['name'].iloc[food_indices]"
   ]
  },
  {
   "cell_type": "markdown",
   "id": "a9c8366b-d1c9-4c32-a215-decaa48ec2d0",
   "metadata": {},
   "source": [
    "**Note**   \n",
    "The reason why I specified the col parameter is that there are other columns in the data set that I can make recommendations by using their content."
   ]
  },
  {
   "cell_type": "code",
   "execution_count": 29,
   "id": "46d5668c-4227-475e-85c1-9c8701139009",
   "metadata": {
    "tags": []
   },
   "outputs": [],
   "source": [
    "cosine_sim = calculate_cosine_sim(random_food_df, 'description')"
   ]
  },
  {
   "cell_type": "code",
   "execution_count": 30,
   "id": "c6eb4204-ae48-42d1-be29-367a4e8be16c",
   "metadata": {},
   "outputs": [
    {
     "data": {
      "text/plain": [
       "['absolut hunk vodka martini',\n",
       " 'andreas viestad s vodka marinated sirloin',\n",
       " 'blue cheese vodka balls  finger food',\n",
       " 'cherry tomatoes marinated in vodka  in oversized martini glass',\n",
       " 'connecticut pasta with vodka sauce',\n",
       " 'cranberry and vodka sparkle',\n",
       " 'cranberry vodka delight',\n",
       " 'cranberry lime vodka punch',\n",
       " 'cucumber  kumquat  and mint vodka cocktail',\n",
       " 'delicious penne vodka with fresh mushrooms  mozzarella  olives',\n",
       " 'dirty vodka martini w blue cheese olives',\n",
       " 'easiest penne with vodka',\n",
       " 'firebird s honey vodka',\n",
       " 'foolproof pie dough  with vodka',\n",
       " 'fresh pineapple infused vodka',\n",
       " 'fruit vodka slush',\n",
       " 'ginger vodka',\n",
       " 'grandma bea s vodka slush',\n",
       " 'linda s lemon shrimp a la vodka pasta',\n",
       " 'lobster ravioli with a light tomato vodka sauce']"
      ]
     },
     "execution_count": 30,
     "metadata": {},
     "output_type": "execute_result"
    }
   ],
   "source": [
    "check_food('vodka')[:20]"
   ]
  },
  {
   "cell_type": "code",
   "execution_count": 31,
   "id": "63b2606d-5178-41a5-be14-d8f1664ae0e4",
   "metadata": {},
   "outputs": [
    {
     "data": {
      "text/plain": [
       "18149                 filthy martini\n",
       "1599               apple pie martini\n",
       "33375                  peach martini\n",
       "29195    mike s butterscotch martini\n",
       "28741             melon ball martini\n",
       "46715            traditional martini\n",
       "20866                     greek mama\n",
       "26426     lemon vanilla mint martini\n",
       "79                      007  martini\n",
       "27047             london sun martini\n",
       "Name: name, dtype: object"
      ]
     },
     "execution_count": 31,
     "metadata": {},
     "output_type": "execute_result"
    }
   ],
   "source": [
    "recommendation('dirty vodka martini w blue cheese olives', cosine_sim, random_food_df)"
   ]
  },
  {
   "cell_type": "code",
   "execution_count": 32,
   "id": "82f3c660-10cd-40e7-abcc-1dfb10ad43f0",
   "metadata": {},
   "outputs": [],
   "source": [
    "recs = recommendation('dirty vodka martini w blue cheese olives', cosine_sim, random_food_df).values.tolist()"
   ]
  },
  {
   "cell_type": "code",
   "execution_count": 33,
   "id": "e8d1bcf3-9a9e-4400-8310-34a608c35fd4",
   "metadata": {},
   "outputs": [
    {
     "name": "stdout",
     "output_type": "stream",
     "text": [
      "Ingredients: [\"['blue cheese', 'dry vermouth', 'vodka', 'spanish olives', 'ice']\"]\n"
     ]
    }
   ],
   "source": [
    "print(f\"Ingredients: {random_food_df.loc[random_food_df['name'] == 'dirty vodka martini w blue cheese olives', 'ingredients'].values}\")"
   ]
  },
  {
   "cell_type": "code",
   "execution_count": 34,
   "id": "8724175f-fd12-44cd-9f40-44305727f841",
   "metadata": {},
   "outputs": [
    {
     "name": "stdout",
     "output_type": "stream",
     "text": [
      "Recipe filthy martini  :\n",
      "  Ingredients: [\"['vodka', 'brine', 'dry vermouth', 'capers']\"] \n",
      " ================================================================================\n",
      "Recipe apple pie martini  :\n",
      "  Ingredients: [\"['vodka', 'goldschlager', 'apple juice', 'cranberry juice', 'apple']\"] \n",
      " ================================================================================\n",
      "Recipe peach martini  :\n",
      "  Ingredients: [\"['peach juice', 'ice cubes', 'vodka', 'disaronno liquor']\"] \n",
      " ================================================================================\n",
      "Recipe mike s butterscotch martini  :\n",
      "  Ingredients: [\"['vanilla vodka', 'butterscotch schnapps', 'ice cubes']\"] \n",
      " ================================================================================\n",
      "Recipe melon ball martini  :\n",
      "  Ingredients: [\"['citrus-infused vodka', 'midori melon liqueur', 'orange juice']\"] \n",
      " ================================================================================\n",
      "Recipe traditional martini  :\n",
      "  Ingredients: [\"['vodka', 'dry vermouth', 'olive']\"] \n",
      " ================================================================================\n",
      "Recipe greek mama  :\n",
      "  Ingredients: [\"['frangelico', 'ouzo', 'dark rum']\"] \n",
      " ================================================================================\n",
      "Recipe lemon vanilla mint martini  :\n",
      "  Ingredients: [\"['lemon', 'sugar', 'ice', 'vanilla vodka', 'mint leaf']\"] \n",
      " ================================================================================\n",
      "Recipe 007  martini  :\n",
      "  Ingredients: [\"['dry vermouth', 'vodka', 'gin', 'lillet blanc']\"] \n",
      " ================================================================================\n",
      "Recipe london sun martini  :\n",
      "  Ingredients: [\"['dry gin', 'dry sherry', 'orange bitters', 'lemon twist']\"] \n",
      " ================================================================================\n"
     ]
    }
   ],
   "source": [
    "for rec in recs:\n",
    "    print(f\"Recipe {rec}  :\\n  Ingredients: {random_food_df.loc[random_food_df['name'] == rec, 'ingredients'].values} \\n {'='*80}\")"
   ]
  },
  {
   "cell_type": "markdown",
   "id": "1901778b-83b8-4251-b8c7-8abdca11812f",
   "metadata": {},
   "source": [
    "**The contents appear to be quite close to each other.**"
   ]
  },
  {
   "cell_type": "markdown",
   "id": "4d16653c-280c-4263-abfa-b9db5fc40464",
   "metadata": {},
   "source": [
    "## Recommendations Based on Recipe Steps"
   ]
  },
  {
   "cell_type": "code",
   "execution_count": 35,
   "id": "43223a18-a150-4466-85f6-247cedf79836",
   "metadata": {},
   "outputs": [],
   "source": [
    "cosine_sim = calculate_cosine_sim(random_food_df, 'steps')"
   ]
  },
  {
   "cell_type": "code",
   "execution_count": 39,
   "id": "aa0e2347-8de5-4cef-976d-60d256a35a6a",
   "metadata": {
    "tags": []
   },
   "outputs": [
    {
     "data": {
      "text/plain": [
       "['apple bacon stuffed chicken breasts',\n",
       " 'artichoke stuffed chicken breasts',\n",
       " 'asian grilled chicken breasts',\n",
       " 'asian style chicken breasts and bacon',\n",
       " 'bacon and cheese stuffed chicken breasts',\n",
       " 'bacon wrapped chicken breasts',\n",
       " 'bacon wrapped smoked gouda stuffed chicken breasts',\n",
       " 'baked buffalo chicken breasts',\n",
       " 'baked chicken breasts and rice',\n",
       " 'baked chicken breasts in red wine  easy',\n",
       " 'baked chicken breasts with almond sauce',\n",
       " 'baked chicken breasts with cornbread stuffing',\n",
       " 'baked chicken breasts with garlic and oregano',\n",
       " 'baked chicken breasts with gravy',\n",
       " 'baked chicken breasts with horseradish cream sauce',\n",
       " 'baked chicken breasts with parmesan garlic crust',\n",
       " 'baked chicken breasts with parmesan garlic crust',\n",
       " 'baked herb crusted chicken breasts',\n",
       " 'baked stuffed boneless chicken breasts',\n",
       " 'baked tarragon chicken breasts']"
      ]
     },
     "execution_count": 39,
     "metadata": {},
     "output_type": "execute_result"
    }
   ],
   "source": [
    "check_food('chicken breasts')[:20]"
   ]
  },
  {
   "cell_type": "code",
   "execution_count": 40,
   "id": "cb00fcb2-e0b9-462f-ac04-4b3b4418b63c",
   "metadata": {},
   "outputs": [
    {
     "data": {
      "text/plain": [
       "13423                         creamy bacon wrapped chicken\n",
       "10073                                        chicken yeffa\n",
       "10015                    chicken with homemade herb cheese\n",
       "9366     chicken breast wrapped in bacon with mushroom ...\n",
       "12826                         cousin cosmo s greek chicken\n",
       "49717                         zesty cheesy crumbed chicken\n",
       "48580                  weight watchers chicken cordon bleu\n",
       "9752                             chicken pepperoni delight\n",
       "14438                        crocked bacon wrapped chicken\n",
       "40264                           simple chicken cordon bleu\n",
       "Name: name, dtype: object"
      ]
     },
     "execution_count": 40,
     "metadata": {},
     "output_type": "execute_result"
    }
   ],
   "source": [
    "recommendation('bacon wrapped chicken breasts', cosine_sim, random_food_df)"
   ]
  },
  {
   "cell_type": "code",
   "execution_count": 43,
   "id": "f7142054-fb3a-4ee1-996b-1100042c7aaf",
   "metadata": {
    "tags": []
   },
   "outputs": [
    {
     "data": {
      "text/plain": [
       "['almond crumbed chicken schnitzel with avocado salad',\n",
       " 'asparagus  artichoke  and avocado salad',\n",
       " 'asparagus  snap pea and avocado salad',\n",
       " 'avocado salad with tomato relish',\n",
       " 'avocado salad with warm tomato basil vinaigrette',\n",
       " 'bacon tomato and avocado salad',\n",
       " 'celery and avocado salad',\n",
       " 'cherry tomato avocado salad',\n",
       " 'chicken  bacon and avocado salad',\n",
       " 'corn  tomato and avocado salad',\n",
       " 'corn  tomato  and avocado salad',\n",
       " 'curried potato  chicken and avocado salad',\n",
       " 'dandelion greens  or arugula  and avocado salad',\n",
       " 'eggplant  aubergine    avocado salad',\n",
       " 'orange avocado salad with poppy seed dressing',\n",
       " 'papaya avocado salad',\n",
       " 'pineapple chicken w  black bean avocado salad',\n",
       " 'potato avocado salad',\n",
       " 'roasted carrot and avocado salad',\n",
       " 'simple papaya avocado salad']"
      ]
     },
     "execution_count": 43,
     "metadata": {},
     "output_type": "execute_result"
    }
   ],
   "source": [
    "check_food('avocado salad')[:20]"
   ]
  },
  {
   "cell_type": "code",
   "execution_count": 44,
   "id": "d8620f8e-e5a5-42ab-9b79-53da7d6c984f",
   "metadata": {},
   "outputs": [
    {
     "data": {
      "text/plain": [
       "16124                            east west asparagus salad\n",
       "18739                       fresh balsamic asparagus salad\n",
       "16684                             easy marinated asparagus\n",
       "694                                           al khurshoof\n",
       "10332                        chilled asparagus with pecans\n",
       "28173    marinated artichoke hearts  shrimp  and mushrooms\n",
       "2191                                asparagus walnut salad\n",
       "2139                              asparagus   tomato salad\n",
       "39139                           sauteed confetti asparagus\n",
       "47816                             vegetable and pasta toss\n",
       "Name: name, dtype: object"
      ]
     },
     "execution_count": 44,
     "metadata": {},
     "output_type": "execute_result"
    }
   ],
   "source": [
    "recommendation('asparagus  artichoke  and avocado salad', cosine_sim, random_food_df)"
   ]
  },
  {
   "cell_type": "code",
   "execution_count": 45,
   "id": "3ddb25d6-84d2-458b-8cdd-ca823c28f927",
   "metadata": {},
   "outputs": [
    {
     "data": {
      "text/plain": [
       "['acadia s eggplant parmesan',\n",
       " 'acadia s stuffed eggplant',\n",
       " 'ajvar  eggplant  aubergine    peppers',\n",
       " 'antipasto di melanzane  eggplant appetizer',\n",
       " 'asian stuffed eggplant with hawaiian style pork  or turkey  hash',\n",
       " 'aubergine  eggplant  and broccoli laksa',\n",
       " 'aubergine  eggplant  assanta',\n",
       " 'aubergine  eggplant  balls',\n",
       " 'aubergine  eggplant  curry with lemongrass   coconut milk',\n",
       " 'baba ganous  turkish eggplant salad',\n",
       " 'baguette sandwich with roasted eggplant  tomatoes and pesto',\n",
       " 'baingan bharta  curried eggplant  aubergine',\n",
       " 'baked breaded eggplant  aubergine',\n",
       " 'baked eggplant and ricotta rolls',\n",
       " 'baked eggplant casserole',\n",
       " 'baked eggplant with mushroom tomato sauce',\n",
       " 'baked eggplant ww',\n",
       " 'baked stuffed baby eggplant  aubergine',\n",
       " 'baked ziti with eggplant and ricotta cheese',\n",
       " 'baklazhanovaya ikra   eggplant  aubergine   caviar']"
      ]
     },
     "execution_count": 45,
     "metadata": {},
     "output_type": "execute_result"
    }
   ],
   "source": [
    "check_food('eggplant')[:20]"
   ]
  },
  {
   "cell_type": "code",
   "execution_count": 46,
   "id": "8c5a1e10-2ab0-4ea3-916c-6044022d5956",
   "metadata": {},
   "outputs": [
    {
     "data": {
      "text/plain": [
       "8743                     cheesy low carb eggplant parmesan\n",
       "3113             baked eggplant with mushroom tomato sauce\n",
       "15337                          delicious eggplant parmesan\n",
       "17178    eggplant  aubergine   rollatini with three che...\n",
       "28903               mexican eggplant  aubergine  casserole\n",
       "46804        triple cheese eggplant  aubergine  parmigiana\n",
       "17555                 ev s eggplant  aubergine  parmigiana\n",
       "17199                        eggplant  aubergine  rolatini\n",
       "17213                                  eggplant parmigiano\n",
       "17212                eggplant parmigiana   weight watchers\n",
       "Name: name, dtype: object"
      ]
     },
     "execution_count": 46,
     "metadata": {},
     "output_type": "execute_result"
    }
   ],
   "source": [
    "recommendation('baked eggplant and ricotta rolls', cosine_sim, random_food_df)"
   ]
  },
  {
   "cell_type": "markdown",
   "id": "18e49112-fc14-4bce-b661-4bd02e16f2fa",
   "metadata": {},
   "source": [
    "### As a result, we can see that both models got successful results, but the recipe steps are more useful because they contain more information."
   ]
  }
 ],
 "metadata": {
  "kernelspec": {
   "display_name": "Python 3 (ipykernel)",
   "language": "python",
   "name": "python3"
  },
  "language_info": {
   "codemirror_mode": {
    "name": "ipython",
    "version": 3
   },
   "file_extension": ".py",
   "mimetype": "text/x-python",
   "name": "python",
   "nbconvert_exporter": "python",
   "pygments_lexer": "ipython3",
   "version": "3.8.2"
  }
 },
 "nbformat": 4,
 "nbformat_minor": 5
}
